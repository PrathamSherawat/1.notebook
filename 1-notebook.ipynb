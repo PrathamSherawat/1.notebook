{
 "cells": [
  {
   "cell_type": "code",
   "execution_count": null,
   "id": "94b70ff7",
   "metadata": {},
   "outputs": [],
   "source": [
    "# Data Science Overview"
   ]
  },
  {
   "cell_type": "code",
   "execution_count": null,
   "id": "be85d9e2",
   "metadata": {},
   "outputs": [],
   "source": [
    "## Introduction\n",
    "This notebook provides an overview of data science concepts, languages, libraries, and tools. It also includes arithmetic expression examples and code cells to perform calculations."
   ]
  },
  {
   "cell_type": "code",
   "execution_count": null,
   "id": "d794e10d",
   "metadata": {},
   "outputs": [],
   "source": [
    "### Data Science Languages\n",
    "- Python\n",
    "- R\n",
    "- SQL"
   ]
  },
  {
   "cell_type": "code",
   "execution_count": null,
   "id": "ac270182",
   "metadata": {},
   "outputs": [],
   "source": [
    "### Data Science Libraries\n",
    "- NumPy (Python)\n",
    "- pandas (Python)\n",
    "- scikit-learn (Python)\n",
    "- ggplot2 (R)\n",
    "- dplyr (R)\n",
    "- SQLAlchemy (Python)"
   ]
  },
  {
   "cell_type": "code",
   "execution_count": null,
   "id": "cf3f033f",
   "metadata": {},
   "outputs": [],
   "source": [
    "| Tool | Description | Language |\n",
    "|------|-------------|----------|\n",
    "| NumPy | A library for the Python programming language, adding support for large, multi-dimensional arrays and matrices, along with a large collection of high-level mathematical functions to operate on these arrays. | Python |\n",
    "| pandas | A software library written for the Python programming language for data manipulation and analysis. | Python |\n",
    "| scikit-learn | A machine learning library for the Python programming language. | Python |\n",
    "| ggplot2 | A data visualization package for R. | R |\n",
    "| dplyr | A grammar of data manipulation, providing a consistent set of verbs to solve the most common data manipulation challenges. | R |\n",
    "| SQLAlchemy | A SQL toolkit and Object-Relational Mapping (ORM) system for Python. | Python |"
   ]
  },
  {
   "cell_type": "code",
   "execution_count": null,
   "id": "3729035e",
   "metadata": {},
   "outputs": [],
   "source": [
    "## Arithmetic Expression Examples"
   ]
  },
  {
   "cell_type": "code",
   "execution_count": 2,
   "id": "053ee5fa",
   "metadata": {},
   "outputs": [
    {
     "name": "stdout",
     "output_type": "stream",
     "text": [
      "Multiplication: 15\n",
      "Addition: 8\n"
     ]
    }
   ],
   "source": [
    "a = 5\n",
    "b = 3\n",
    "c = a * b\n",
    "d = a + b\n",
    "print(\"Multiplication:\", c)\n",
    "print(\"Addition:\", d)"
   ]
  },
  {
   "cell_type": "code",
   "execution_count": 3,
   "id": "587e7cf7",
   "metadata": {},
   "outputs": [
    {
     "name": "stdout",
     "output_type": "stream",
     "text": [
      "Minutes to Hours: 2.0\n"
     ]
    }
   ],
   "source": [
    "minutes = 120\n",
    "hours = minutes / 60\n",
    "print(\"Minutes to Hours:\", hours)"
   ]
  },
  {
   "cell_type": "code",
   "execution_count": null,
   "id": "933a21dd",
   "metadata": {},
   "outputs": [],
   "source": [
    "## Objectives\n",
    "- Provide an overview of data science concepts, languages, libraries, and tools.\n",
    "- Demonstrate arithmetic expression examples and code cells to perform calculations."
   ]
  },
  {
   "cell_type": "code",
   "execution_count": null,
   "id": "c7cf752b",
   "metadata": {},
   "outputs": [],
   "source": [
    "## Author\n",
    "[Pratham Sherawat](https://github.com/prathamsherawat)"
   ]
  }
 ],
 "metadata": {
  "kernelspec": {
   "display_name": "Python 3 (ipykernel)",
   "language": "python",
   "name": "python3"
  },
  "language_info": {
   "codemirror_mode": {
    "name": "ipython",
    "version": 3
   },
   "file_extension": ".py",
   "mimetype": "text/x-python",
   "name": "python",
   "nbconvert_exporter": "python",
   "pygments_lexer": "ipython3",
   "version": "3.11.5"
  }
 },
 "nbformat": 4,
 "nbformat_minor": 5
}
